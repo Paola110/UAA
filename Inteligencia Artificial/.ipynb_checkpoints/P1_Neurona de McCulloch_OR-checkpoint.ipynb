{
 "cells": [
  {
   "cell_type": "markdown",
   "id": "04d30c15-33b2-4983-a6aa-2bbce9b11f14",
   "metadata": {
    "jp-MarkdownHeadingCollapsed": true
   },
   "source": [
    "## Universidad Autonoma de Aguascalientes\n",
    "## Departamento: Ciencias de la computación\n",
    "## Carrera: Ingenieria en computacion inteligente\n",
    "### Curso: Inteligencia Artificial (McCulloch Pitts)\n",
    "### Maestro: Dr. Francisco Javier Luna Rosas\n",
    "### Alumno: Paola Montserrat Osorio Garcia \n",
    "### Semestre: Agosto_Diciembre 2024"
   ]
  },
  {
   "cell_type": "markdown",
   "id": "fc760c90-251d-4f1a-a486-9b0b4fdcce08",
   "metadata": {},
   "source": [
    "# PRACTICA No. 1. Neurona de McCulloch Pitts.\n",
    "## Entrene una célula de McCulloch-Pitts para que sea capaz de comportarse como una copuerta lógica OR de dos entradas\n",
    "\n",
    "## Paso 1: Importar las librerias necesarias"
   ]
  },
  {
   "cell_type": "code",
   "execution_count": 5,
   "id": "62d14be9-c74d-411a-bb05-8ec85109666f",
   "metadata": {},
   "outputs": [],
   "source": [
    "import numpy as np #Se importa la libreria para análisis de datos, ciencia de datos y computación cientifica"
   ]
  },
  {
   "cell_type": "markdown",
   "id": "c8af1274-2350-46a2-af51-fd8d84ceace6",
   "metadata": {},
   "source": [
    "## Paso 2: Definir la función para el OR logico "
   ]
  },
  {
   "cell_type": "code",
   "execution_count": 6,
   "id": "bedd0023-0db4-450e-b581-6267531be7bd",
   "metadata": {},
   "outputs": [],
   "source": [
    "def mcculloch_pitts_OR (x1, x2):\n",
    "    #Pesos de las entradas\n",
    "    w1, w2 = 1, 1\n",
    "\n",
    "    #Umbral o teta\n",
    "    threshold = 1\n",
    "\n",
    "    #Suma ponderada de las entradas \n",
    "    weighted_sum = x1*w1 + x2*w2\n",
    "\n",
    "    #Salida de la célula\n",
    "    if weighted_sum >= threshold:\n",
    "        return 1\n",
    "    else:\n",
    "        return 0"
   ]
  },
  {
   "cell_type": "markdown",
   "id": "abaddaca-6417-4689-99ab-c3ee8e7654d9",
   "metadata": {},
   "source": [
    "## Paso 3: Probar la neurona de McCulloch - Pitts para el OR logico"
   ]
  },
  {
   "cell_type": "code",
   "execution_count": 7,
   "id": "5041a7ec-10d6-42ce-b648-2e2b6d64eb52",
   "metadata": {},
   "outputs": [
    {
     "name": "stdout",
     "output_type": "stream",
     "text": [
      "0\n",
      "1\n",
      "1\n",
      "1\n"
     ]
    }
   ],
   "source": [
    "#Ejemplo de uso \n",
    "print (mcculloch_pitts_OR(0,0)) #Salida 0\n",
    "print (mcculloch_pitts_OR(0,1)) #Salida 1\n",
    "print (mcculloch_pitts_OR(1,0)) #Salida 1\n",
    "print (mcculloch_pitts_OR(1,1)) #Salida 1"
   ]
  },
  {
   "cell_type": "markdown",
   "id": "6f1b7af9-37cf-4053-b184-e8a7bcf0d194",
   "metadata": {},
   "source": [
    "## Conclusiones"
   ]
  },
  {
   "cell_type": "markdown",
   "id": "a2a247a7-7dcf-4381-a4ef-ecbc9c38a7c9",
   "metadata": {},
   "source": [
    "### En esta practica entrenamos una neurona de McCulloch-Pitts para que sea capaz de comportarse como una compuerta lógica OR de dos entradas. Los pesos (w) y el teta, fueron elegidos totalmente aleatorios. Al probar la Neurona de McCulloch - Pitts para el OR lógico, demostramos como se puede resolver cualquier problema aritmético y lógico (en este caso el OR logico)"
   ]
  },
  {
   "cell_type": "markdown",
   "id": "87f4dfaa-724b-4b4f-ac5b-a81466e9f5e3",
   "metadata": {},
   "source": [
    "## Referencias\n",
    "### Russell S. J. Norving P. (2020). Artificial Intelligence: A Modern Approach, Prentice-Hall, 4th Edition, Englewood Cliffs, NJ, 2020."
   ]
  }
 ],
 "metadata": {
  "kernelspec": {
   "display_name": "Python 3 (ipykernel)",
   "language": "python",
   "name": "python3"
  },
  "language_info": {
   "codemirror_mode": {
    "name": "ipython",
    "version": 3
   },
   "file_extension": ".py",
   "mimetype": "text/x-python",
   "name": "python",
   "nbconvert_exporter": "python",
   "pygments_lexer": "ipython3",
   "version": "3.12.4"
  }
 },
 "nbformat": 4,
 "nbformat_minor": 5
}
