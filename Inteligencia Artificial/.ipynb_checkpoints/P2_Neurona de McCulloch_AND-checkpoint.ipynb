{
 "cells": [
  {
   "cell_type": "markdown",
   "id": "3837f27e-fc21-489e-82a7-8d5570ebaef0",
   "metadata": {},
   "source": [
    "## Universidad Autonoma de Aguascalientes\n",
    "## Departamento: Ciencias de la computación\n",
    "## Carrera: Ingenieria en computacion inteligente\n",
    "### Curso: Inteligencia Artificial (McCulloch Pitts)\n",
    "### Maestro: Dr. Francisco Javier Luna Rosas\n",
    "### Alumno: Paola Montserrat Osorio Garcia \n",
    "### Semestre: Agosto_Diciembre 2024"
   ]
  },
  {
   "cell_type": "markdown",
   "id": "bb891acc-d8e4-4b0e-b6df-8d7264a525d0",
   "metadata": {},
   "source": [
    "# PRACTICA No. 2. Neurona de McCulloch Pitts.\n",
    "## Entrene una célula de McCulloch-Pitts para que sea capaz de comportarse como una copuerta lógica AND de dos entradas\n",
    "\n",
    "## Paso 1: Importar las librerias necesarias"
   ]
  },
  {
   "cell_type": "code",
   "execution_count": 10,
   "id": "7d964bf4-7b95-4ca4-ad12-f4a1286ed5ee",
   "metadata": {},
   "outputs": [],
   "source": [
    "import numpy as np"
   ]
  },
  {
   "cell_type": "markdown",
   "id": "c79da458-ea15-4bb3-93a3-c5f563def9df",
   "metadata": {},
   "source": [
    "## Paso 2: Definir la función para el AND logico "
   ]
  },
  {
   "cell_type": "code",
   "execution_count": 13,
   "id": "e10ce9ef-b34c-4ecd-af51-08294bab69db",
   "metadata": {},
   "outputs": [],
   "source": [
    "def mcculloch_pitts_AND (x1, x2):\n",
    "    #Pesos de las entradas\n",
    "    w1, w2 = 1, 1\n",
    "\n",
    "    #Umbral o teta\n",
    "    threshold = 2\n",
    "\n",
    "    #Suma ponderada de las entradas \n",
    "    weighted_sum = x1*w1 + x2*w2\n",
    "\n",
    "    #Salida de la célula\n",
    "    if weighted_sum >= threshold:\n",
    "        return 1\n",
    "    else:\n",
    "        return 0"
   ]
  },
  {
   "cell_type": "markdown",
   "id": "70fa3a1a-afe1-4497-9bc3-c1d302772657",
   "metadata": {},
   "source": [
    "## Paso 3: Probar la neurona de McCulloch - Pitts para el AND logico"
   ]
  },
  {
   "cell_type": "code",
   "execution_count": 21,
   "id": "f4581887-c80a-45c4-a3f2-fa2f553c4ed7",
   "metadata": {},
   "outputs": [
    {
     "name": "stdout",
     "output_type": "stream",
     "text": [
      "0\n",
      "0\n",
      "0\n",
      "1\n"
     ]
    }
   ],
   "source": [
    "#Ejemplo de uso \n",
    "print (mcculloch_pitts_AND(0,0)) #Salida 0\n",
    "print (mcculloch_pitts_AND(0,1)) #Salida 0\n",
    "print (mcculloch_pitts_AND(1,0)) #Salida 0\n",
    "print (mcculloch_pitts_AND(1,1)) #Salida 1"
   ]
  },
  {
   "cell_type": "markdown",
   "id": "c0973b2c-8dce-4bd7-9a34-0e1f70bd221e",
   "metadata": {},
   "source": [
    "## Conclusiones\n",
    "\n",
    "### En esta practica entrenamos una neurona de McCulloch-Pitts para que sea capaz de comportarse como una compuerta lógica AND de dos entradas. Los pesos (w) y el teta, fueron elegidos totalmente aleatorios. Al probar la Neurona de McCulloch - Pitts para el AND lógico, demostramos como se puede resolver cualquier problema aritmético y lógico (en este caso el AND logico)"
   ]
  },
  {
   "cell_type": "markdown",
   "id": "9e48483c-bcc1-48f3-b80b-466b5753a0b1",
   "metadata": {},
   "source": [
    "## Referencias\n",
    "### Russell S. J. Norving P. (2020). Artificial Intelligence: A Modern Approach, Prentice-Hall, 4th Edition, Englewood Cliffs, NJ, 2020."
   ]
  }
 ],
 "metadata": {
  "kernelspec": {
   "display_name": "Python 3 (ipykernel)",
   "language": "python",
   "name": "python3"
  },
  "language_info": {
   "codemirror_mode": {
    "name": "ipython",
    "version": 3
   },
   "file_extension": ".py",
   "mimetype": "text/x-python",
   "name": "python",
   "nbconvert_exporter": "python",
   "pygments_lexer": "ipython3",
   "version": "3.12.4"
  }
 },
 "nbformat": 4,
 "nbformat_minor": 5
}
