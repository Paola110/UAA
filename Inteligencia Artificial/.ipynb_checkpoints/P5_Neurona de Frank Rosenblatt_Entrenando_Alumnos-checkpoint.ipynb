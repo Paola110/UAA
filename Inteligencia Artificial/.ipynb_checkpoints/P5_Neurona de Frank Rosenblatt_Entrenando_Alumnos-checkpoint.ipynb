{
 "cells": [
  {
   "cell_type": "markdown",
   "metadata": {},
   "source": [
    "## Universidad Autonoma de Aguascalientes\n",
    "## Departamento: Ciencias de la computación\n",
    "## Carrera: Ingenieria en computacion inteligente\n",
    "### Curso: Inteligencia Artificial (El perceptron Frank Rosenblatt)\n",
    "### Maestro: Dr. Francisco Javier Luna Rosas\n",
    "### Alumno: Paola Montserrat Osorio Garcia \n",
    "### Semestre: Agosto_Diciembre \n",
    "\n",
    "# PRACTICA No. 5. El perceptron de Frank Rosenblatt\n",
    "\n",
    "### Un perceptrón es un tipo de modelo de red neuronal muy simple, utilizando principalmente para problemas de clasificacion binaria. Fue desarrollado en 1958 por Frank Rosenblatt y  es considerado  uno de los primeros algoritmos de aprendizaje supervisado.\n",
    "\n",
    "### Un perceptrón toma un conjunto de entradas, las procesa meidante una serie de operadores matematicos y produce una salida que puede ser 0 o 1, dependiendo de su el resultado final supera un umbral predeterminado.\n",
    "\n",
    "### EJEMPLO: Determinar si un alumno pasa la materia segun sus faltas y promedio\n",
    "\n",
    "# Paso 1: Importar librerias necesarias"
   ]
  },
  {
   "cell_type": "code",
   "execution_count": 7,
   "metadata": {},
   "outputs": [],
   "source": [
    "import numpy as np # type: ignore\n",
    "import matplotlib.pyplot as plt # type: ignore"
   ]
  },
  {
   "cell_type": "markdown",
   "metadata": {},
   "source": [
    "# Paso 2: Generar los datos"
   ]
  },
  {
   "cell_type": "code",
   "execution_count": 8,
   "metadata": {},
   "outputs": [],
   "source": [
    "alumnos = np.array ([[ 5,  7],[12,  6],\n",
    "                    [ 3, 10],[17,  8],\n",
    "                    [ 1,  9],[ 9,  5],\n",
    "                    [16,  7],[ 8,  6],\n",
    "                    [14, 10],[ 2,  8]])"
   ]
  },
  {
   "cell_type": "markdown",
   "metadata": {},
   "source": [
    "# Paso 3: Definir las clases : 1 : aprobado, 0 : reprobado"
   ]
  },
  {
   "cell_type": "code",
   "execution_count": 9,
   "metadata": {},
   "outputs": [],
   "source": [
    "clases = np.array ([1,0,1,0,1,0,1,0,1,1])"
   ]
  },
  {
   "cell_type": "markdown",
   "metadata": {},
   "source": [
    "# Paso 4: Definir la funcion de activacion"
   ]
  },
  {
   "cell_type": "code",
   "execution_count": 10,
   "metadata": {},
   "outputs": [],
   "source": [
    "# w1*x1 + w2*x2 + ... + wn*xn\n",
    "def activacion (pesos, x, b):\n",
    "    z = pesos * x\n",
    "    if z.sum() + b > 0:\n",
    "        return 1\n",
    "    else:\n",
    "        return 0"
   ]
  },
  {
   "cell_type": "markdown",
   "metadata": {},
   "source": [
    "# Paso 5: Generamos los pesos y el bias"
   ]
  },
  {
   "cell_type": "code",
   "execution_count": 11,
   "metadata": {},
   "outputs": [
    {
     "data": {
      "text/plain": [
       "(array([ 0.04360423, -0.50901557]), 0.9597937309281801, 1)"
      ]
     },
     "execution_count": 11,
     "metadata": {},
     "output_type": "execute_result"
    }
   ],
   "source": [
    "pesos = np.random.uniform(-1,1, size=2)\n",
    "b = np.random.uniform(-1,1)\n",
    "pesos, b, activacion (pesos, [ 0.5, 0.6 ], b)"
   ]
  },
  {
   "cell_type": "markdown",
   "metadata": {},
   "source": [
    "# Paso 6: Implementamos el algoritmo en el perceptron"
   ]
  },
  {
   "cell_type": "code",
   "execution_count": 39,
   "metadata": {},
   "outputs": [
    {
     "name": "stdout",
     "output_type": "stream",
     "text": [
      "4 3 2 3 2 3 4 3 4 3 4 3 4 3 4 3 2 2 3 5 3 3 2 2 3 5 3 3 2 3 5 3 3 5 3 3 2 3 5 3 3 5 3 3 2 3 4 4 3 4 5 3 3 2 3 5 3 3 2 3 4 4 3 4 5 3 3 2 3 5 3 3 5 3 3 2 3 5 3 3 5 3 3 2 3 4 4 3 4 5 3 3 2 3 5 3 3 5 3 3 "
     ]
    }
   ],
   "source": [
    "pesos = np.random.uniform(-1,1,size=2)\n",
    "b = np.random.uniform(-1,1)\n",
    "tasa_de_aprendiaje = 0.01\n",
    "epocas = 100\n",
    "\n",
    "#Ciclo de entrenamiento\n",
    "\n",
    "for epoca in range(epocas):\n",
    "    error_total = 0\n",
    "    for i in range (len(alumnos)):\n",
    "        prediccion = activacion(pesos,alumnos[i], b)\n",
    "        error = clases[i] - prediccion\n",
    "        error_total += error**2\n",
    "        pesos[0] += tasa_de_aprendiaje * alumnos[i][0] * error\n",
    "        pesos[1] += tasa_de_aprendiaje * alumnos[i][1] * error\n",
    "        b += tasa_de_aprendiaje * error\n",
    "    print (error_total, end=\" \")\n"
   ]
  },
  {
   "cell_type": "markdown",
   "metadata": {},
   "source": [
    "# Paso 7: Probar el algoritmo"
   ]
  },
  {
   "cell_type": "code",
   "execution_count": 13,
   "metadata": {},
   "outputs": [
    {
     "data": {
      "text/plain": [
       "(array([-0.00614914,  0.147748  ]), -0.9039527456451504, 1)"
      ]
     },
     "execution_count": 13,
     "metadata": {},
     "output_type": "execute_result"
    }
   ],
   "source": [
    "pesos,b,activacion(pesos, [5,7],b)"
   ]
  },
  {
   "cell_type": "code",
   "execution_count": 14,
   "metadata": {},
   "outputs": [
    {
     "data": {
      "text/plain": [
       "(array([-0.00614914,  0.147748  ]), -0.9039527456451504, 0)"
      ]
     },
     "execution_count": 14,
     "metadata": {},
     "output_type": "execute_result"
    }
   ],
   "source": [
    "pesos,b,activacion(pesos, [8,6],b)"
   ]
  },
  {
   "cell_type": "markdown",
   "metadata": {},
   "source": [
    "## Conclusiones\n",
    "\n",
    "### En esta practica  entrenamos el algoritmo del perceptron para determinar si se aprueba o no una tarjeta de credito a un cliente, considerando la edad y el ahorro que tiene en su cuenta bancaria\n",
    "\n",
    "## Referencias\n",
    "\n",
    "### Russell S. J., Norving P. (2020).  Artificial Intelligence: A Modern Approach, Prentice - Hall, 4th Edition, Englewood Cliffs, NJ, 2020."
   ]
  },
  {
   "cell_type": "markdown",
   "metadata": {},
   "source": [
    "# Extra usando perceptron importado"
   ]
  },
  {
   "cell_type": "code",
   "execution_count": 15,
   "metadata": {},
   "outputs": [],
   "source": [
    "import numpy as np # type: ignore\n",
    "import matplotlib.pyplot as plt # type: ignore\n",
    "from sklearn.linear_model import Perceptron # type: ignore"
   ]
  },
  {
   "cell_type": "code",
   "execution_count": 16,
   "metadata": {},
   "outputs": [],
   "source": [
    "alumnos = np.array ([[ 5,  7],[12,  6],\n",
    "                    [ 3, 10],[17,  8],\n",
    "                    [ 1,  9],[ 9,  5],\n",
    "                    [16,  7],[ 8,  6],\n",
    "                    [14, 10],[ 2,  8]])"
   ]
  },
  {
   "cell_type": "code",
   "execution_count": 17,
   "metadata": {},
   "outputs": [],
   "source": [
    "clases = np.array ([1,0,1,0,1,0,1,0,1,1])"
   ]
  },
  {
   "cell_type": "code",
   "execution_count": 18,
   "metadata": {},
   "outputs": [
    {
     "data": {
      "text/plain": [
       "array([1, 0])"
      ]
     },
     "execution_count": 18,
     "metadata": {},
     "output_type": "execute_result"
    }
   ],
   "source": [
    "from sklearn.linear_model import Perceptron # type: ignore\n",
    "perceptron = Perceptron().fit(alumnos,clases)\n",
    "perceptron.predict([[3,10],[17,8]])"
   ]
  }
 ],
 "metadata": {
  "kernelspec": {
   "display_name": "base",
   "language": "python",
   "name": "python3"
  },
  "language_info": {
   "codemirror_mode": {
    "name": "ipython",
    "version": 3
   },
   "file_extension": ".py",
   "mimetype": "text/x-python",
   "name": "python",
   "nbconvert_exporter": "python",
   "pygments_lexer": "ipython3",
   "version": "3.12.4"
  }
 },
 "nbformat": 4,
 "nbformat_minor": 2
}
