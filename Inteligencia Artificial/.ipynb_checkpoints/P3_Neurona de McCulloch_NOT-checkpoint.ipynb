{
 "cells": [
  {
   "cell_type": "markdown",
   "metadata": {},
   "source": [
    "## Universidad Autonoma de Aguascalientes\n",
    "## Departamento: Ciencias de la computación\n",
    "## Carrera: Ingenieria en computacion inteligente\n",
    "### Curso: Inteligencia Artificial (McCulloch Pitts)\n",
    "### Maestro: Dr. Francisco Javier Luna Rosas\n",
    "### Alumno: Paola Montserrat Osorio Garcia \n",
    "### Semestre: Agosto_Diciembre 2024"
   ]
  },
  {
   "cell_type": "markdown",
   "metadata": {},
   "source": [
    "# PRACTICA No. 3. Neurona de McCulloch Pitts.\n",
    "## Entrene una célula de McCulloch-Pitts para que sea capaz de comportarse como una copuerta lógica NOT de dos entradas\n",
    "\n",
    "## Paso 1: Importar las librerias necesarias"
   ]
  },
  {
   "cell_type": "code",
   "execution_count": 2,
   "metadata": {},
   "outputs": [],
   "source": [
    "import numpy as np # type: ignore"
   ]
  },
  {
   "cell_type": "markdown",
   "metadata": {},
   "source": [
    "## Paso 2: Definir la función para el NOT logico "
   ]
  },
  {
   "cell_type": "code",
   "execution_count": 3,
   "metadata": {},
   "outputs": [],
   "source": [
    "def mcculloch_pitts_NOT (x1):\n",
    "    #Pesos de las entradas\n",
    "    w1 = 1\n",
    "\n",
    "    #Umbral o teta\n",
    "    threshold = 2\n",
    "\n",
    "    #Suma ponderada de las entradas\n",
    "    weighted_sum = x1+w1\n",
    "\n",
    "    #Salida de la célula\n",
    "    if weighted_sum >= threshold:\n",
    "        return 0\n",
    "    else:\n",
    "        return 1"
   ]
  },
  {
   "cell_type": "markdown",
   "metadata": {},
   "source": [
    "## Paso 3: Probar la neurona de McCulloch - Pitts para el NOT logico"
   ]
  },
  {
   "cell_type": "code",
   "execution_count": 4,
   "metadata": {},
   "outputs": [
    {
     "name": "stdout",
     "output_type": "stream",
     "text": [
      "1\n",
      "0\n"
     ]
    }
   ],
   "source": [
    "#Ejemplo de uso\n",
    "print (mcculloch_pitts_NOT(0)) #Salida 1\n",
    "print (mcculloch_pitts_NOT(1)) #Salida 0"
   ]
  },
  {
   "cell_type": "markdown",
   "metadata": {},
   "source": [
    "## Conclusiones\n",
    "\n",
    "### En esta practica entrenamos una neurona de McCulloch-Pitts para que sea capaz de comportarse como una compuerta lógica NOT de una entrada. Los pesos (w) y el teta, fueron elegidos totalmente aleatorios. Al probar la Neurona de McCulloch - Pitts para el NOT lógico, demostramos como se puede resolver cualquier problema aritmético y lógico (en este caso el NOT logico)"
   ]
  }
 ],
 "metadata": {
  "kernelspec": {
   "display_name": "base",
   "language": "python",
   "name": "python3"
  },
  "language_info": {
   "codemirror_mode": {
    "name": "ipython",
    "version": 3
   },
   "file_extension": ".py",
   "mimetype": "text/x-python",
   "name": "python",
   "nbconvert_exporter": "python",
   "pygments_lexer": "ipython3",
   "version": "3.12.4"
  }
 },
 "nbformat": 4,
 "nbformat_minor": 2
}
