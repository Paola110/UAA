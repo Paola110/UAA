{
 "cells": [
  {
   "cell_type": "markdown",
   "metadata": {},
   "source": [
    "## Universidad Autonoma de Aguascalientes\n",
    "## Departamento: Ciencias de la computación\n",
    "## Carrera: Ingenieria en computacion inteligente\n",
    "### Curso: Inteligencia Artificial (El perceptron Frank Rosenblatt)\n",
    "### Maestro: Dr. Francisco Javier Luna Rosas\n",
    "### Alumno: Paola Montserrat Osorio Garcia \n",
    "### Semestre: Agosto_Diciembre \n",
    "\n",
    "# PRACTICA No. 6. El perceptron de Frank Rosenblatt Usando la Libreria SciLearn de Python APLOCADO A LA FLOR DE IRIS (Datos Linealmente Separables)\n",
    "\n",
    "### Un perceptrón es un tipo de modelo de red neuronal muy simple, utilizando principalmente para problemas de clasificacion binaria. Fue desarrollado en 1958 por Frank Rosenblatt y  es considerado  uno de los primeros algoritmos de aprendizaje supervisado.\n",
    "\n",
    "### En esta practica cargamos dos clases de la flor de Iris (Setosa y Versicolor). Las caracteristicas que tomaremos en cuenta son: longitud del petalo y longitus del sefalo.\n",
    "\n",
    "\n",
    "# Paso 1: Importar librerias necesarias"
   ]
  },
  {
   "cell_type": "code",
   "execution_count": 1,
   "metadata": {},
   "outputs": [],
   "source": [
    "import numpy as np # type: ignore\n",
    "import os\n",
    "import pandas as pd # type: ignore"
   ]
  },
  {
   "cell_type": "markdown",
   "metadata": {},
   "source": [
    "# Paso 2: Cargamos el dataset"
   ]
  },
  {
   "cell_type": "code",
   "execution_count": 9,
   "metadata": {},
   "outputs": [
    {
     "name": "stdout",
     "output_type": "stream",
     "text": [
      "(150, 5)\n",
      "  s.largo s.ancho p.largo p.ancho    tipo\n",
      "0     5.1     3.5     1.4     0.2  setosa\n",
      "1     4.9     3.0     1.4     0.2  setosa\n",
      "2     4.7     3.2     1.3     0.2  setosa\n",
      "3     4.6     3.1     1.5     0.2  setosa\n",
      "4     5.0     3.6     1.4     0.2  setosa\n"
     ]
    }
   ],
   "source": [
    "os.chdir(\"C:/Users/monts/OneDrive/Escritorio/UAA/Inteligencia Artificial/Recursos/\")\n",
    "df = pd.read_csv('iris.csv', delimiter= ';', decimal=\",\")\n",
    "print(df.shape)\n",
    "print(df.head())"
   ]
  },
  {
   "cell_type": "code",
   "execution_count": null,
   "metadata": {},
   "outputs": [],
   "source": []
  },
  {
   "cell_type": "code",
   "execution_count": 7,
   "metadata": {},
   "outputs": [],
   "source": [
    "import numpy as np # type: ignore\n",
    "import matplotlib.pyplot as plt # type: ignore\n",
    "from sklearn.linear_model import Perceptron # type: ignore"
   ]
  },
  {
   "cell_type": "markdown",
   "metadata": {},
   "source": [
    "# Usar el perceptron de la libreria sklearn"
   ]
  },
  {
   "cell_type": "code",
   "execution_count": null,
   "metadata": {},
   "outputs": [],
   "source": [
    "from sklearn.linear_model import Perceptron # type: ignore\n",
    "perceptron = Perceptron().fit(df,)\n",
    "perceptron.predict()"
   ]
  }
 ],
 "metadata": {
  "kernelspec": {
   "display_name": "base",
   "language": "python",
   "name": "python3"
  },
  "language_info": {
   "codemirror_mode": {
    "name": "ipython",
    "version": 3
   },
   "file_extension": ".py",
   "mimetype": "text/x-python",
   "name": "python",
   "nbconvert_exporter": "python",
   "pygments_lexer": "ipython3",
   "version": "3.12.4"
  }
 },
 "nbformat": 4,
 "nbformat_minor": 2
}
