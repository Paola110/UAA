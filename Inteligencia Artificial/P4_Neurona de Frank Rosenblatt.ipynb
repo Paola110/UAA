{
 "cells": [
  {
   "cell_type": "markdown",
   "metadata": {},
   "source": [
    "## Universidad Autonoma de Aguascalientes\n",
    "## Departamento: Ciencias de la computación\n",
    "## Carrera: Ingenieria en computacion inteligente\n",
    "### Curso: Inteligencia Artificial (El perceptron Frank Rosenblatt)\n",
    "### Maestro: Dr. Francisco Javier Luna Rosas\n",
    "### Alumno: Paola Montserrat Osorio Garcia \n",
    "### Semestre: Agosto_Diciembre \n",
    "\n",
    "# PRACTICA No. 4. El perceptron de Frank Rosenblatt\n",
    "\n",
    "### Un perceptrón es un tipo de modelo de red neuronal muy simple, utilizando principalmente para problemas de clasificacion binaria. Fue desarrollado en 1958 por Frank Rosenblatt y  es considerado  uno de los primeros algoritmos de aprendizaje supervisado.\n",
    "\n",
    "### Un perceptrón toma un conjunto de entradas, las procesa meidante una serie de operadores matematicos y produce una salida que puede ser 0 o 1, dependiendo de su el resultado final supera un umbral predeterminado.\n",
    "\n",
    "### EJEMPLO: Determinar si se le aprueba o no una tarjeta de credito a un cliente, considerando la edad y  el ahorro que tiene en su cuenta bancaria.\n",
    "\n",
    "# Paso 1: Importar librerias necesarias"
   ]
  },
  {
   "cell_type": "code",
   "execution_count": 11,
   "metadata": {},
   "outputs": [],
   "source": [
    "import numpy as np # type: ignore\n",
    "import matplotlib.pyplot as plt # type: ignore"
   ]
  },
  {
   "cell_type": "markdown",
   "metadata": {},
   "source": [
    "# Paso 2: Generar los datos"
   ]
  },
  {
   "cell_type": "code",
   "execution_count": 7,
   "metadata": {},
   "outputs": [],
   "source": [
    "personas = np.array ([[0.3,0.4],[0.4,0.3],\n",
    "                     [0.3,0.2],[0.4,0.1],\n",
    "                     [0.5,0.4],[0.4,0.8],\n",
    "                     [0.6,0.8],[0.5,0.6],\n",
    "                     [0.7,0.6],[0.8,0.5]])"
   ]
  },
  {
   "cell_type": "markdown",
   "metadata": {},
   "source": [
    "# Paso 3: Definir las clases : 1 : aprobado, 0 : denegado"
   ]
  },
  {
   "cell_type": "code",
   "execution_count": 8,
   "metadata": {},
   "outputs": [],
   "source": [
    "clases = np.array ([0,0,0,0,0,1,1,1,1,1])"
   ]
  },
  {
   "cell_type": "markdown",
   "metadata": {},
   "source": [
    "# Paso 4: Definir la funcion de activacion"
   ]
  },
  {
   "cell_type": "code",
   "execution_count": 9,
   "metadata": {},
   "outputs": [],
   "source": [
    "# w1*x1 + w2*x2 + ... + wn*xn\n",
    "def activacion (pesos, x, b):\n",
    "    z = pesos * x\n",
    "    if z.sum() + b > 0:\n",
    "        return 1\n",
    "    else:\n",
    "        return 0"
   ]
  },
  {
   "cell_type": "markdown",
   "metadata": {},
   "source": [
    "# Paso 5: Generamos los pesos y el bias"
   ]
  },
  {
   "cell_type": "code",
   "execution_count": 15,
   "metadata": {},
   "outputs": [
    {
     "data": {
      "text/plain": [
       "(array([ 0.55655742, -0.46983819]), -0.6097535576337891, 0)"
      ]
     },
     "execution_count": 15,
     "metadata": {},
     "output_type": "execute_result"
    }
   ],
   "source": [
    "pesos = np.random.uniform(-1,1, size=2)\n",
    "b = np.random.uniform(-1,1)\n",
    "pesos, b, activacion (pesos, [ 0.5, 0.6 ], b)"
   ]
  }
 ],
 "metadata": {
  "kernelspec": {
   "display_name": "base",
   "language": "python",
   "name": "python3"
  },
  "language_info": {
   "codemirror_mode": {
    "name": "ipython",
    "version": 3
   },
   "file_extension": ".py",
   "mimetype": "text/x-python",
   "name": "python",
   "nbconvert_exporter": "python",
   "pygments_lexer": "ipython3",
   "version": "3.12.4"
  }
 },
 "nbformat": 4,
 "nbformat_minor": 2
}
