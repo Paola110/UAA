{
 "cells": [
  {
   "cell_type": "markdown",
   "metadata": {},
   "source": [
    "# Universidad Autonoma de Aguascalientes\n",
    "## Departamento: Ciencias de la computación\n",
    "## Carrera: Ingenieria en computacion inteligente\n",
    "### Curso: Inteligencia Artificial (Manipulacion de imagen)\n",
    "### Maestro: Dr. Francisco Javier Luna Rosas\n",
    "### Alumno: Paola Montserrat Osorio Garcia \n",
    "### Semestre: Agosto_Diciembre \n",
    "\n",
    "# PRACTICA No. 9. Imagen a negativo\n",
    "\n",
    "# Paso 1: Importar librerias necesarias"
   ]
  },
  {
   "cell_type": "code",
   "execution_count": null,
   "metadata": {},
   "outputs": [],
   "source": [
    "import matplotlib.pyplot as plt \n",
    "import matplotlib.image as mpimg\n",
    "import PIL \n",
    "from PIL import Image, ImageEnhance\n",
    "import numpy as np\n",
    "\n",
    "# Se lee la imagen \n",
    "img = mpimg.imread(\"C:/Users/monts/OneDrive/Escritorio/UAA/Inteligencia Artificial/Recursos/Imagen_negativo.jpeg\")\n",
    "img_Image = Image.open(\"C:/Users/monts/OneDrive/Escritorio/UAA/Inteligencia Artificial/Recursos/Imagen_negativo.jpeg\")\n",
    "img_ImageConvert = Image.open(\"C:/Users/monts/OneDrive/Escritorio/UAA/Inteligencia Artificial/Recursos/Imagen_negativo.jpeg\").convert('L')\n",
    "\n",
    "# Se crea la imagen en negativo \n",
    "negative_img = 1 - img\n",
    "\n",
    "# Se crea un arreglo de ella para luego binarizarla \n",
    "img_array = np.array(img_ImageConvert)\n",
    "umbral = 127 #umbral para binarizacion \n",
    "binary_img = (img_array > umbral) * 255\n",
    "\n",
    "# Se crea un objeto para el brillo \n",
    "enhancer = ImageEnhance.Brightness(img_Image)\n",
    "\n",
    "# Se abrillanta la imagen\n",
    "brightened_img = enhancer.enhance(1.5) # 50% más brillante\n",
    "\n",
    "# Se oscurece la imagen\n",
    "darkened_img = enhancer.enhance(0.2) # 80% menos brillante\n",
    "\n",
    "# Se crea una forma para mostrar las imagenes\n",
    "fig, axes = plt.subplots(2, 3, figsize=(10, 5))\n",
    "\n",
    "axes[0][0].imshow(img)\n",
    "axes[0][0].set_title(\"Original Image\")\n",
    "axes[0][0].axis('off')\n",
    "\n",
    "axes[0][1].imshow(negative_img)\n",
    "axes[0][1].set_title(\"Negative Image\")\n",
    "axes[0][1].axis('off')\n",
    "\n",
    "axes[0][2].imshow(img[:, :, 1], cmap=\"gray\", vmin=0, vmax=255, interpolation=\"none\")\n",
    "axes[0][2].set_title(\"Gray Scale Image\")\n",
    "axes[0][2].axis('off')\n",
    "\n",
    "axes[1][0].imshow(binary_img, cmap='gray')\n",
    "axes[1][0].set_title(\"Binary  Image\")\n",
    "axes[1][0].axis('off')\n",
    "\n",
    "axes[1][1].imshow(brightened_img)\n",
    "axes[1][1].set_title(\"Brightened  Image\")\n",
    "axes[1][1].axis('off')\n",
    "\n",
    "axes[1][2].imshow(darkened_img)\n",
    "axes[1][2].set_title(\"Darkened  Image\")\n",
    "axes[1][2].axis('off')"
   ]
  }
 ],
 "metadata": {
  "kernelspec": {
   "display_name": "base",
   "language": "python",
   "name": "python3"
  },
  "language_info": {
   "codemirror_mode": {
    "name": "ipython",
    "version": 3
   },
   "file_extension": ".py",
   "mimetype": "text/x-python",
   "name": "python",
   "nbconvert_exporter": "python",
   "pygments_lexer": "ipython3",
   "version": "3.12.4"
  }
 },
 "nbformat": 4,
 "nbformat_minor": 2
}
