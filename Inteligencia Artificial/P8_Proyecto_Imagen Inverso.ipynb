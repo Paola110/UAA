{
 "cells": [
  {
   "cell_type": "markdown",
   "metadata": {},
   "source": [
    "# Universidad Autonoma de Aguascalientes\n",
    "## Departamento: Ciencias de la computación\n",
    "## Carrera: Ingenieria en computacion inteligente\n",
    "### Curso: Inteligencia Artificial (Manipulacion de imagen)\n",
    "### Maestro: Dr. Francisco Javier Luna Rosas\n",
    "### Alumno: Paola Montserrat Osorio Garcia \n",
    "### Semestre: Agosto_Diciembre \n",
    "\n",
    "# PRACTICA No. 9. Imagen a negativo\n",
    "\n",
    "# Paso 1: Importar librerias necesarias"
   ]
  },
  {
   "cell_type": "code",
   "execution_count": null,
   "metadata": {},
   "outputs": [],
   "source": [
    "import matplotlib.pyplot as plt \n",
    "import matplotlib.image as mpimg\n",
    "import PIL \n",
    "from PIL import Image, ImageEnhance\n",
    "import numpy as np\n",
    "\n",
    "# Se lee la imagen \n",
    "img = mpimg.imread(\"C:/Users/monts/OneDrive/Escritorio/UAA/Inteligencia Artificial/Recursos/Imagen_negativo.jpeg\")\n",
    "img_Image = Image.open(\"C:/Users/monts/OneDrive/Escritorio/UAA/Inteligencia Artificial/Recursos/Imagen_negativo.jpeg\")\n",
    "img_ImageConvert = Image.open(\"C:/Users/monts/OneDrive/Escritorio/UAA/Inteligencia Artificial/Recursos/Imagen_negativo.jpeg\").convert('L')\n",
    "\n",
    "# Se crea la imagen en negativo \n",
    "negative_img = 1 - img\n",
    "\n",
    "# Se crea un arreglo de ella para luego binarizarla \n",
    "img_array = np.array(img_ImageConvert)\n",
    "umbral = 127 #umbral para binarizacion \n",
    "binary_img = (img_array > umbral) * 255\n",
    "\n",
    "# Se crea un objeto para el brillo \n",
    "enhancer = ImageEnhance.Brightness(img_Image)\n",
    "\n",
    "# Se abrillanta la imagen\n",
    "brightened_img = enhancer.enhance(1.5) # 50% más brillante\n",
    "\n",
    "# Se oscurece la imagen\n",
    "darkened_img = enhancer.enhance(0.2) # 80% menos brillante\n",
    "\n",
    "# Se crea una forma para mostrar las imagenes\n",
    "fig, axes = plt.subplots(2, 3, figsize=(10, 5))\n",
    "\n",
    "axes[0][0].imshow(img)\n",
    "axes[0][0].set_title(\"Original Image\")\n",
    "axes[0][0].axis('off')\n",
    "\n",
    "axes[0][1].imshow(negative_img)\n",
    "axes[0][1].set_title(\"Negative Image\")\n",
    "axes[0][1].axis('off')\n",
    "\n",
    "axes[0][2].imshow(img[:, :, 1], cmap=\"gray\", vmin=0, vmax=255, interpolation=\"none\")\n",
    "axes[0][2].set_title(\"Gray Scale Image\")\n",
    "axes[0][2].axis('off')\n",
    "\n",
    "axes[1][0].imshow(binary_img, cmap='gray')\n",
    "axes[1][0].set_title(\"Binary  Image\")\n",
    "axes[1][0].axis('off')\n",
    "\n",
    "axes[1][1].imshow(brightened_img)\n",
    "axes[1][1].set_title(\"Brightened  Image\")\n",
    "axes[1][1].axis('off')\n",
    "\n",
    "axes[1][2].imshow(darkened_img)\n",
    "axes[1][2].set_title(\"Darkened  Image\")\n",
    "axes[1][2].axis('off')"
   ]
  },
  {
   "cell_type": "code",
   "execution_count": 1,
   "metadata": {},
   "outputs": [
    {
     "ename": "ModuleNotFoundError",
     "evalue": "No module named 'cv2'",
     "output_type": "error",
     "traceback": [
      "\u001b[1;31m---------------------------------------------------------------------------\u001b[0m",
      "\u001b[1;31mModuleNotFoundError\u001b[0m                       Traceback (most recent call last)",
      "Cell \u001b[1;32mIn[1], line 3\u001b[0m\n\u001b[0;32m      1\u001b[0m \u001b[38;5;28;01mimport\u001b[39;00m \u001b[38;5;21;01mmatplotlib\u001b[39;00m\u001b[38;5;21;01m.\u001b[39;00m\u001b[38;5;21;01mpyplot\u001b[39;00m \u001b[38;5;28;01mas\u001b[39;00m \u001b[38;5;21;01mplt\u001b[39;00m \n\u001b[0;32m      2\u001b[0m \u001b[38;5;28;01mimport\u001b[39;00m \u001b[38;5;21;01mmatplotlib\u001b[39;00m\u001b[38;5;21;01m.\u001b[39;00m\u001b[38;5;21;01mimage\u001b[39;00m \u001b[38;5;28;01mas\u001b[39;00m \u001b[38;5;21;01mmpimg\u001b[39;00m\n\u001b[1;32m----> 3\u001b[0m \u001b[38;5;28;01mimport\u001b[39;00m \u001b[38;5;21;01mcv2\u001b[39;00m\n\u001b[0;32m      5\u001b[0m \u001b[38;5;66;03m# Se lee la imagen \u001b[39;00m\n\u001b[0;32m      6\u001b[0m img \u001b[38;5;241m=\u001b[39m cv2\u001b[38;5;241m.\u001b[39mimread(\u001b[38;5;124m\"\u001b[39m\u001b[38;5;124mC:/Users/monts/OneDrive/Escritorio/UAA/Inteligencia Artificial/Recursos/Imagen_negativo.jpeg\u001b[39m\u001b[38;5;124m\"\u001b[39m)\n",
      "\u001b[1;31mModuleNotFoundError\u001b[0m: No module named 'cv2'"
     ]
    }
   ],
   "source": [
    "import matplotlib.pyplot as plt \n",
    "import matplotlib.image as mpimg\n",
    "import cv2\n",
    "\n",
    "# Se lee la imagen \n",
    "img = cv2.imread(\"C:/Users/monts/OneDrive/Escritorio/UAA/Inteligencia Artificial/Recursos/Imagen_negativo.jpeg\")\n",
    "\n"
   ]
  }
 ],
 "metadata": {
  "kernelspec": {
   "display_name": "base",
   "language": "python",
   "name": "python3"
  },
  "language_info": {
   "codemirror_mode": {
    "name": "ipython",
    "version": 3
   },
   "file_extension": ".py",
   "mimetype": "text/x-python",
   "name": "python",
   "nbconvert_exporter": "python",
   "pygments_lexer": "ipython3",
   "version": "3.12.4"
  }
 },
 "nbformat": 4,
 "nbformat_minor": 2
}
