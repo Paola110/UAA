{
 "cells": [
  {
   "cell_type": "markdown",
   "metadata": {},
   "source": [
    "# Universidad Autonoma de Aguascalientes\n",
    "## Departamento: Ciencias de la computación\n",
    "## Carrera: Ingenieria en computacion inteligente\n",
    "### Curso: Inteligencia Artificial (Gradiente Descendente en 2D)\n",
    "### Maestro: Dr. Francisco Javier Luna Rosas\n",
    "### Alumno: Paola Montserrat Osorio Garcia \n",
    "### Semestre: Agosto_Diciembre  \n",
    "\n",
    "## PRACTICA No. 9. La búsqueda local es una técnica utilizada para resolver problemas de optimización donde la solución óptima se busca moviéndose iterativamente entre soluciones vecinas en el espacio de búsqueda.\n",
    "\n",
    "### Hill Climbing (Ascenso de Colinas). Es uno de los algoritmos más simples de búsqueda local. Comienza con una solución inicial y realiza movimientos hacia soluciones vecinas que mejoran la función objetivo. En esta practica implementaremos Hill Climbing para buscar el optimo global de una función en 2D: f(x) = -x^2 + 10 y la graficamos.\n",
    "\n",
    "# Paso 1: Importar librerias necesarias"
   ]
  },
  {
   "cell_type": "code",
   "execution_count": 1,
   "metadata": {},
   "outputs": [],
   "source": [
    "import numpy as np\n",
    "import matplotlib.pyplot as plt\n",
    "import random"
   ]
  },
  {
   "cell_type": "markdown",
   "metadata": {},
   "source": [
    "# Paso 2: Definir función objetivo"
   ]
  },
  {
   "cell_type": "code",
   "execution_count": 2,
   "metadata": {},
   "outputs": [],
   "source": [
    "def objective_function(x):\n",
    "    return -x**2 + 10"
   ]
  },
  {
   "cell_type": "markdown",
   "metadata": {},
   "source": [
    "# Paso 3: Función para definir la vecidad"
   ]
  },
  {
   "cell_type": "code",
   "execution_count": 3,
   "metadata": {},
   "outputs": [],
   "source": [
    "def get_neighbors(x, step_size=0.1):\n",
    "    return [x - step_size, x + step_size]"
   ]
  },
  {
   "cell_type": "markdown",
   "metadata": {},
   "source": [
    "# Paso 4. Función para implementar el algoritmo Hill Climbing (se mueve a la mejor solución vecina o a una solución aceptable)"
   ]
  },
  {
   "cell_type": "code",
   "execution_count": 4,
   "metadata": {},
   "outputs": [],
   "source": [
    "def hill_climbing(start, step_size=0.1, max_iterations=100):\n",
    "    current_solution = start\n",
    "    current_value = objective_function(current_solution)\n",
    "    #history = [(current_solution, current_value)]  # Para almacenar la historia de soluciones\n",
    "\n",
    "    for iteration in range(max_iterations):\n",
    "        # Generar los vecinos de la solución actual\n",
    "        neighbors = get_neighbors(current_solution, step_size)\n",
    "        \n",
    "        # Evaluar los vecinos y seleccionar el mejor\n",
    "        next_solution = max(neighbors, key=objective_function)\n",
    "        next_value = objective_function(next_solution)\n",
    "        \n",
    "        # Almacenar la solución y su valor\n",
    "        #history.append((next_solution, next_value))\n",
    "\n",
    "        print(f\"Iteración {iteration}: Solución actual = {current_solution}, Valor = {current_value}\")\n",
    "\n",
    "        # Si el vecino es mejor, actualizar la solución actual\n",
    "        if next_value > current_value:\n",
    "            current_solution = next_solution\n",
    "            current_value = next_value\n",
    "        else:\n",
    "            # Terminar si no se puede mejorar más\n",
    "            print(\"Se ha alcanzado un máximo local.\")\n",
    "            break\n",
    "\n",
    "    return current_solution, current_value"
   ]
  },
  {
   "cell_type": "markdown",
   "metadata": {},
   "source": [
    "# Paso 5. Definir la solución inicial."
   ]
  },
  {
   "cell_type": "code",
   "execution_count": 5,
   "metadata": {},
   "outputs": [],
   "source": [
    "# Ejemplo de uso\n",
    "initial_solution = random.uniform(-5, 5)  # Genera una solución inicial aleatoria"
   ]
  },
  {
   "cell_type": "markdown",
   "metadata": {},
   "source": [
    "# Paso 6. Ejecutar el Algoritmo Hill Climbing"
   ]
  },
  {
   "cell_type": "code",
   "execution_count": 6,
   "metadata": {},
   "outputs": [
    {
     "name": "stdout",
     "output_type": "stream",
     "text": [
      "Iteración 0: Solución actual = -4.300400829962281, Valor = -8.493447298340275\n",
      "Iteración 1: Solución actual = -4.200400829962281, Valor = -7.643367132347823\n",
      "Iteración 2: Solución actual = -4.100400829962282, Valor = -6.813286966355367\n",
      "Iteración 3: Solución actual = -4.000400829962282, Valor = -6.003206800362914\n",
      "Iteración 4: Solución actual = -3.900400829962282, Valor = -5.213126634370457\n",
      "Iteración 5: Solución actual = -3.800400829962282, Valor = -4.443046468378\n",
      "Iteración 6: Solución actual = -3.7004008299622817, Valor = -3.6929663023855426\n",
      "Iteración 7: Solución actual = -3.6004008299622816, Valor = -2.9628861363930863\n",
      "Iteración 8: Solución actual = -3.5004008299622815, Valor = -2.2528059704006296\n",
      "Iteración 9: Solución actual = -3.4004008299622814, Valor = -1.5627258044081724\n",
      "Iteración 10: Solución actual = -3.3004008299622813, Valor = -0.8926456384157149\n",
      "Iteración 11: Solución actual = -3.2004008299622813, Valor = -0.24256547242325865\n",
      "Iteración 12: Solución actual = -3.100400829962281, Valor = 0.387514693569198\n",
      "Iteración 13: Solución actual = -3.000400829962281, Valor = 0.9975948595616551\n",
      "Iteración 14: Solución actual = -2.900400829962281, Valor = 1.5876750255541108\n",
      "Iteración 15: Solución actual = -2.800400829962281, Valor = 2.1577551915465687\n",
      "Iteración 16: Solución actual = -2.700400829962281, Valor = 2.7078353575390253\n",
      "Iteración 17: Solución actual = -2.6004008299622807, Valor = 3.2379155235314814\n",
      "Iteración 18: Solución actual = -2.5004008299622806, Valor = 3.747995689523938\n",
      "Iteración 19: Solución actual = -2.4004008299622805, Valor = 4.238075855516395\n",
      "Iteración 20: Solución actual = -2.3004008299622805, Valor = 4.708156021508851\n",
      "Iteración 21: Solución actual = -2.2004008299622804, Valor = 5.158236187501307\n",
      "Iteración 22: Solución actual = -2.1004008299622803, Valor = 5.588316353493764\n",
      "Iteración 23: Solución actual = -2.00040082996228, Valor = 5.998396519486221\n",
      "Iteración 24: Solución actual = -1.90040082996228, Valor = 6.388476685478677\n",
      "Iteración 25: Solución actual = -1.80040082996228, Valor = 6.758556851471133\n",
      "Iteración 26: Solución actual = -1.70040082996228, Valor = 7.10863701746359\n",
      "Iteración 27: Solución actual = -1.6004008299622798, Valor = 7.4387171834560455\n",
      "Iteración 28: Solución actual = -1.5004008299622797, Valor = 7.748797349448502\n",
      "Iteración 29: Solución actual = -1.4004008299622797, Valor = 8.038877515440959\n",
      "Iteración 30: Solución actual = -1.3004008299622796, Valor = 8.308957681433414\n",
      "Iteración 31: Solución actual = -1.2004008299622795, Valor = 8.55903784742587\n",
      "Iteración 32: Solución actual = -1.1004008299622794, Valor = 8.789118013418326\n",
      "Iteración 33: Solución actual = -1.0004008299622793, Valor = 8.999198179410783\n",
      "Iteración 34: Solución actual = -0.9004008299622793, Valor = 9.189278345403238\n",
      "Iteración 35: Solución actual = -0.8004008299622793, Valor = 9.359358511395694\n",
      "Iteración 36: Solución actual = -0.7004008299622794, Valor = 9.50943867738815\n",
      "Iteración 37: Solución actual = -0.6004008299622794, Valor = 9.639518843380607\n",
      "Iteración 38: Solución actual = -0.5004008299622794, Valor = 9.749599009373062\n",
      "Iteración 39: Solución actual = -0.40040082996227944, Valor = 9.839679175365518\n",
      "Iteración 40: Solución actual = -0.30040082996227946, Valor = 9.909759341357974\n",
      "Iteración 41: Solución actual = -0.20040082996227945, Valor = 9.959839507350429\n",
      "Iteración 42: Solución actual = -0.10040082996227945, Valor = 9.989919673342886\n",
      "Iteración 43: Solución actual = -0.000400829962279442, Valor = 9.999999839335342\n",
      "Se ha alcanzado un máximo local.\n",
      "Solución óptima encontrada: -0.000400829962279442, Valor: 9.999999839335342\n"
     ]
    }
   ],
   "source": [
    "solution, value = hill_climbing(initial_solution)\n",
    "print(f\"Solución óptima encontrada: {solution}, Valor: {value}\")"
   ]
  },
  {
   "cell_type": "markdown",
   "metadata": {},
   "source": [
    "# Paso 7. Graficamos el algoritmo Hill Climbing"
   ]
  },
  {
   "cell_type": "code",
   "execution_count": 7,
   "metadata": {},
   "outputs": [
    {
     "name": "stdout",
     "output_type": "stream",
     "text": [
      "Se ha alcanzado un máximo local.\n"
     ]
    },
    {
     "data": {
      "image/png": "[encoded data removed]",
      "text/plain": [
       "<Figure size 1000x600 with 1 Axes>"
      ]
     },
     "metadata": {},
     "output_type": "display_data"
    }
   ],
   "source": [
    "# Implementación del algoritmo Hill Climbing\n",
    "def hill_climbing(start, step_size=0.1, max_iterations=100):\n",
    "    current_solution = start\n",
    "    current_value = objective_function(current_solution)\n",
    "    history = [(current_solution, current_value)]  # Para almacenar la historia de soluciones\n",
    "\n",
    "    for iteration in range(max_iterations):\n",
    "        # Generar los vecinos de la solución actual\n",
    "        neighbors = get_neighbors(current_solution, step_size)\n",
    "        \n",
    "        # Evaluar los vecinos y seleccionar el mejor\n",
    "        next_solution = max(neighbors, key=objective_function)\n",
    "        next_value = objective_function(next_solution)\n",
    "\n",
    "        # Almacenar la solución y su valor\n",
    "        history.append((next_solution, next_value))\n",
    "\n",
    "        # Si el vecino es mejor, actualizar la solución actual\n",
    "        if next_value > current_value:\n",
    "            current_solution = next_solution\n",
    "            current_value = next_value\n",
    "        else:\n",
    "            # Terminar si no se puede mejorar más\n",
    "            print(\"Se ha alcanzado un máximo local.\")\n",
    "            break\n",
    "\n",
    "    return history\n",
    "\n",
    "# Generar la gráfica de la función y el proceso de búsqueda\n",
    "def plot_hill_climbing(history):\n",
    "    # Valores de x y y para la función objetivo\n",
    "    x = np.linspace(-5, 5, 400)\n",
    "    y = objective_function(x)\n",
    "\n",
    "    # Extraer las soluciones y sus valores\n",
    "    solutions = [sol[0] for sol in history]\n",
    "    values = [sol[1] for sol in history]\n",
    "\n",
    "    # Crear la gráfica\n",
    "    plt.figure(figsize=(10, 6))\n",
    "    plt.plot(x, y, label=\"f(x) = -x^2 + 10\", color='blue')\n",
    "    plt.scatter(solutions, values, color='red', zorder=5, label=\"Búsqueda Hill Climbing\")\n",
    "    plt.plot(solutions, values, linestyle='--', color='red')\n",
    "    plt.xlabel('x')\n",
    "    plt.ylabel('f(x)')\n",
    "    plt.title('Hill Climbing para f(x) = -x^2 + 10')\n",
    "    plt.legend()\n",
    "    plt.grid(True)\n",
    "    plt.show()\n",
    "\n",
    "# Ejemplo de uso\n",
    "initial_solution = random.uniform(-5, 5)  # Genera una solución inicial aleatoria\n",
    "history = hill_climbing(initial_solution)\n",
    "plot_hill_climbing(history)"
   ]
  },
  {
   "cell_type": "markdown",
   "metadata": {},
   "source": [
    "# Conclusiones\n",
    "\n",
    "## En esta practica implementamos Hill Climbing para buscar el optimo global de una función en 2D: f(x) = -x^2 + 10 y la graficamos.\n",
    "\n",
    "# Referencias.\n",
    "\n",
    "## Talbi, El-Ghazali (200).“Metaheuristics : from design to implementation”John Wiley & Sons, Inc. 2009. ISBN 978-0-470-27858-1"
   ]
  }
 ],
 "metadata": {
  "kernelspec": {
   "display_name": "base",
   "language": "python",
   "name": "python3"
  },
  "language_info": {
   "codemirror_mode": {
    "name": "ipython",
    "version": 3
   },
   "file_extension": ".py",
   "mimetype": "text/x-python",
   "name": "python",
   "nbconvert_exporter": "python",
   "pygments_lexer": "ipython3",
   "version": "3.12.4"
  }
 },
 "nbformat": 4,
 "nbformat_minor": 2
}
